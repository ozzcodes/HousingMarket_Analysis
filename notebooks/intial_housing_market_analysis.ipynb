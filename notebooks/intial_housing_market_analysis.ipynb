{
 "cells": [
  {
   "cell_type": "markdown",
   "metadata": {
    "collapsed": true,
    "pycharm": {
     "name": "#%% md\n"
    }
   },
   "source": [
    "## Clean housing data\n",
    "<p>In this notebook, we download housing data from a popular MLS website, merge, clean,\n",
    "filter and prepare it for subsequent spatial and statistical analysis.</p>\n"
   ]
  },
  {
   "cell_type": "code",
   "execution_count": 1,
   "outputs": [],
   "source": [
    "import pandas as pd\n",
    "import matplotlib.pyplot as plt\n",
    "from pyzillow.pyzillow import ZillowWrapper\n",
    "\n",
    "%matplotlib inline"
   ],
   "metadata": {
    "collapsed": false,
    "pycharm": {
     "name": "#%%\n"
    }
   }
  },
  {
   "cell_type": "markdown",
   "source": [
    "## Use pyzillow API to pull data"
   ],
   "metadata": {
    "collapsed": false,
    "pycharm": {
     "name": "#%% md\n"
    }
   }
  },
  {
   "cell_type": "code",
   "execution_count": null,
   "outputs": [],
   "source": [
    "zillow_data = ZillowWrapper()"
   ],
   "metadata": {
    "collapsed": false,
    "pycharm": {
     "name": "#%%\n"
    }
   }
  },
  {
   "cell_type": "markdown",
   "source": [
    "## Read data from all CSV files"
   ],
   "metadata": {
    "collapsed": false,
    "pycharm": {
     "name": "#%% md\n"
    }
   }
  },
  {
   "cell_type": "code",
   "execution_count": 2,
   "outputs": [
    {
     "data": {
      "text/plain": "     Keywords    Dislike Like Like1     Content  \\\n0         NEW  $375,000   4bd   2ba  1,544 sqft   \n1         NEW  $450,000   3bd   2ba  1,812 sqft   \n2         NEW  $449,900   4bd   2ba  1,725 sqft   \n3         NEW  $379,000   5bd   2ba  1,778 sqft   \n4  BANK OWNED  $525,400   4bd   3ba  2,964 sqft   \n5         NEW  $459,900   3bd   2ba  1,545 sqft   \n6         NaN  $499,900   3bd   2ba  1,528 sqft   \n7         NEW  $524,000   3bd   2ba  2,015 sqft   \n8         NEW  $375,000   3bd   2ba  1,336 sqft   \n9         NEW  $550,000   2bd   4ba  2,224 sqft   \n\n                 propertycard__styledlinkm1ur0x3_URL  \\\n0  https://www.trulia.com/p/ma/plymouth/26-willow...   \n1  https://www.trulia.com/p/ma/plymouth/119-alewi...   \n2  https://www.trulia.com/p/ma/bridgewater/351-so...   \n3  https://www.trulia.com/p/ma/west-wareham/8-wea...   \n4  https://www.trulia.com/p/ma/marshfield/364-fur...   \n5  https://www.trulia.com/p/ma/east-bridgewater/5...   \n6  https://www.trulia.com/p/ma/hanover/36-beechtr...   \n7  https://www.trulia.com/p/ma/pembroke/69-clarem...   \n8  https://www.trulia.com/p/ma/bridgewater/475-oa...   \n9  https://www.trulia.com/p/ma/pembroke/672-cente...   \n\n  propertycard__styledlinkm1ur0x3 propertycard__styledlinkm1ur0x32  \\\n0                    26 Willow St     Buttermilk Bay, Plymouth, MA   \n1                  119 Alewife Rd         Cedarville, Plymouth, MA   \n2                    351 South St                  Bridgewater, MA   \n3                     8 Weaver St   West Wareham, West Wareham, MA   \n4                  364 Furnace St                   Marshfield, MA   \n5                   552 Bridge St             East Bridgewater, MA   \n6                 36 Beechtree Rd                      Hanover, MA   \n7                 69 Claremont Rd                     Pembroke, MA   \n8                      475 Oak St                  Bridgewater, MA   \n9                   672 Center St                     Pembroke, MA   \n\n                                            Dislike3  \n0         JAMES F. SAVAGE, BELSITO & ASSOCIATES INC.  \n1                  ELIZABETH ISENOR, RE/MAX SPECTRUM  \n2                  TEAM PACE, KELLER WILLIAMS REALTY  \n3  PHIL AND DEBBIE ROSE, LAER REALTY PARTNERS / R...  \n4                      JASON SMITH, JDS REALTY GROUP  \n5                 SUSAN SOUZA, CONWAY - MATTAPOISETT  \n6               DONALD HARDY, KELLER WILLIAMS REALTY  \n7           KIMBERLEY TUFTS, JILL & CO. REALTY GROUP  \n8      KAREN MURRAY, REIS REAL ESTATE & COMPANY INC.  \n9                        CINDI FORD, RE/MAX PLATINUM  ",
      "text/html": "<div>\n<style scoped>\n    .dataframe tbody tr th:only-of-type {\n        vertical-align: middle;\n    }\n\n    .dataframe tbody tr th {\n        vertical-align: top;\n    }\n\n    .dataframe thead th {\n        text-align: right;\n    }\n</style>\n<table border=\"1\" class=\"dataframe\">\n  <thead>\n    <tr style=\"text-align: right;\">\n      <th></th>\n      <th>Keywords</th>\n      <th>Dislike</th>\n      <th>Like</th>\n      <th>Like1</th>\n      <th>Content</th>\n      <th>propertycard__styledlinkm1ur0x3_URL</th>\n      <th>propertycard__styledlinkm1ur0x3</th>\n      <th>propertycard__styledlinkm1ur0x32</th>\n      <th>Dislike3</th>\n    </tr>\n  </thead>\n  <tbody>\n    <tr>\n      <th>0</th>\n      <td>NEW</td>\n      <td>$375,000</td>\n      <td>4bd</td>\n      <td>2ba</td>\n      <td>1,544 sqft</td>\n      <td>https://www.trulia.com/p/ma/plymouth/26-willow...</td>\n      <td>26 Willow St</td>\n      <td>Buttermilk Bay, Plymouth, MA</td>\n      <td>JAMES F. SAVAGE, BELSITO &amp; ASSOCIATES INC.</td>\n    </tr>\n    <tr>\n      <th>1</th>\n      <td>NEW</td>\n      <td>$450,000</td>\n      <td>3bd</td>\n      <td>2ba</td>\n      <td>1,812 sqft</td>\n      <td>https://www.trulia.com/p/ma/plymouth/119-alewi...</td>\n      <td>119 Alewife Rd</td>\n      <td>Cedarville, Plymouth, MA</td>\n      <td>ELIZABETH ISENOR, RE/MAX SPECTRUM</td>\n    </tr>\n    <tr>\n      <th>2</th>\n      <td>NEW</td>\n      <td>$449,900</td>\n      <td>4bd</td>\n      <td>2ba</td>\n      <td>1,725 sqft</td>\n      <td>https://www.trulia.com/p/ma/bridgewater/351-so...</td>\n      <td>351 South St</td>\n      <td>Bridgewater, MA</td>\n      <td>TEAM PACE, KELLER WILLIAMS REALTY</td>\n    </tr>\n    <tr>\n      <th>3</th>\n      <td>NEW</td>\n      <td>$379,000</td>\n      <td>5bd</td>\n      <td>2ba</td>\n      <td>1,778 sqft</td>\n      <td>https://www.trulia.com/p/ma/west-wareham/8-wea...</td>\n      <td>8 Weaver St</td>\n      <td>West Wareham, West Wareham, MA</td>\n      <td>PHIL AND DEBBIE ROSE, LAER REALTY PARTNERS / R...</td>\n    </tr>\n    <tr>\n      <th>4</th>\n      <td>BANK OWNED</td>\n      <td>$525,400</td>\n      <td>4bd</td>\n      <td>3ba</td>\n      <td>2,964 sqft</td>\n      <td>https://www.trulia.com/p/ma/marshfield/364-fur...</td>\n      <td>364 Furnace St</td>\n      <td>Marshfield, MA</td>\n      <td>JASON SMITH, JDS REALTY GROUP</td>\n    </tr>\n    <tr>\n      <th>5</th>\n      <td>NEW</td>\n      <td>$459,900</td>\n      <td>3bd</td>\n      <td>2ba</td>\n      <td>1,545 sqft</td>\n      <td>https://www.trulia.com/p/ma/east-bridgewater/5...</td>\n      <td>552 Bridge St</td>\n      <td>East Bridgewater, MA</td>\n      <td>SUSAN SOUZA, CONWAY - MATTAPOISETT</td>\n    </tr>\n    <tr>\n      <th>6</th>\n      <td>NaN</td>\n      <td>$499,900</td>\n      <td>3bd</td>\n      <td>2ba</td>\n      <td>1,528 sqft</td>\n      <td>https://www.trulia.com/p/ma/hanover/36-beechtr...</td>\n      <td>36 Beechtree Rd</td>\n      <td>Hanover, MA</td>\n      <td>DONALD HARDY, KELLER WILLIAMS REALTY</td>\n    </tr>\n    <tr>\n      <th>7</th>\n      <td>NEW</td>\n      <td>$524,000</td>\n      <td>3bd</td>\n      <td>2ba</td>\n      <td>2,015 sqft</td>\n      <td>https://www.trulia.com/p/ma/pembroke/69-clarem...</td>\n      <td>69 Claremont Rd</td>\n      <td>Pembroke, MA</td>\n      <td>KIMBERLEY TUFTS, JILL &amp; CO. REALTY GROUP</td>\n    </tr>\n    <tr>\n      <th>8</th>\n      <td>NEW</td>\n      <td>$375,000</td>\n      <td>3bd</td>\n      <td>2ba</td>\n      <td>1,336 sqft</td>\n      <td>https://www.trulia.com/p/ma/bridgewater/475-oa...</td>\n      <td>475 Oak St</td>\n      <td>Bridgewater, MA</td>\n      <td>KAREN MURRAY, REIS REAL ESTATE &amp; COMPANY INC.</td>\n    </tr>\n    <tr>\n      <th>9</th>\n      <td>NEW</td>\n      <td>$550,000</td>\n      <td>2bd</td>\n      <td>4ba</td>\n      <td>2,224 sqft</td>\n      <td>https://www.trulia.com/p/ma/pembroke/672-cente...</td>\n      <td>672 Center St</td>\n      <td>Pembroke, MA</td>\n      <td>CINDI FORD, RE/MAX PLATINUM</td>\n    </tr>\n  </tbody>\n</table>\n</div>"
     },
     "execution_count": 2,
     "metadata": {},
     "output_type": "execute_result"
    }
   ],
   "source": [
    "csv1_path = '../data/Plymouth County, MA 2 Bath Homes For Sale _Trulia.csv'\n",
    "csv2_path = '../data/Weymouth, MA 2 Bath Homes For Sale _ Trulia.csv'\n",
    "\n",
    "prop_df1 = pd.read_csv(csv1_path)\n",
    "prop_df2 = pd.read_csv(csv2_path)\n",
    "prop_df1.head(10)"
   ],
   "metadata": {
    "collapsed": false,
    "pycharm": {
     "name": "#%%\n"
    }
   }
  },
  {
   "cell_type": "code",
   "execution_count": 3,
   "outputs": [
    {
     "data": {
      "text/plain": "                Keywords    Dislike Like Like1     Content  \\\n0                    NEW  $399,000   3bd   2ba  1,633 sqft   \n1  NEW\\nOPEN SUN, 9-10AM  $529,900   4bd   3ba  1,682 sqft   \n2                    NEW  $324,900   2bd   2ba  1,020 sqft   \n3                    NaN  $499,900   3bd   2ba  1,528 sqft   \n4                    NEW  $475,000   4bd   2ba  1,856 sqft   \n5                    NEW  $399,995   3bd   3ba  1,576 sqft   \n6                    NaN  $549,000   4bd   2ba  1,550 sqft   \n7  NEW\\nOPEN WED, 12-3PM  $525,000   3bd   2ba  1,600 sqft   \n8                    NEW  $549,000   2bd   3ba  1,102 sqft   \n9                    NEW  $425,000   3bd   3ba  1,892 sqft   \n\n                 propertycard__styledlinkm1ur0x3_URL  \\\n0  https://www.trulia.com/p/ma/stoughton/36-talbo...   \n1  https://www.trulia.com/p/ma/weymouth/18-weybos...   \n2  https://www.trulia.com/p/ma/rockland/91-boxber...   \n3  https://www.trulia.com/p/ma/hanover/36-beechtr...   \n4  https://www.trulia.com/p/ma/randolph/114-north...   \n5  https://www.trulia.com/p/ma/weymouth/61-broad-...   \n6  https://www.trulia.com/p/ma/braintree/4-lake-s...   \n7  https://www.trulia.com/p/ma/hanover/23-karen-r...   \n8  https://www.trulia.com/p/ma/dorchester-center/...   \n9  https://www.trulia.com/p/ma/brockton/38-hillcr...   \n\n  propertycard__styledlinkm1ur0x3         propertycard__styledlinkm1ur0x32  \\\n0                    36 Talbot St                            Stoughton, MA   \n1                 18 Weybosset St             North Weymouth, Weymouth, MA   \n2              91 Boxberry Ln #91                             Rockland, MA   \n3                 36 Beechtree Rd                              Hanover, MA   \n4                    114 North St                             Randolph, MA   \n5            61 Broad Reach #M11B             North Weymouth, Weymouth, MA   \n6                       4 Lake St                            Braintree, MA   \n7                     23 Karen Rd                              Hanover, MA   \n8         29 Saint Gregory St #29  South Dorchester, Dorchester Center, MA   \n9                38 Hillcrest Ave                             Brockton, MA   \n\n                                            Dislike3  \n0             SHAUNA FANNING, LAMACCHIA REALTY, INC.  \n1  ANGELA BERGIN, WILLIAM RAVEIS R.E. & HOME SERV...  \n2                      ALYSA O'HARA, BRADFORD REALTY  \n3               DONALD HARDY, KELLER WILLIAMS REALTY  \n4  LISA JEDREY, KINLIN GROVER DARTMOUTH AT PADANA...  \n5      DEPEND ON DAKOTA TEAM, KELLER WILLIAMS REALTY  \n6  BUY BOSTON TEAM, COLDWELL BANKER REALTY - BROO...  \n7              DAVID DELANEY, DAVID R. DELANEY, ESQ.  \n8     NICHOLS REALTY TEAM, BOSTON TRUST REALTY GROUP  \n9                     VALERIE LYONS, RE/MAX PLATINUM  ",
      "text/html": "<div>\n<style scoped>\n    .dataframe tbody tr th:only-of-type {\n        vertical-align: middle;\n    }\n\n    .dataframe tbody tr th {\n        vertical-align: top;\n    }\n\n    .dataframe thead th {\n        text-align: right;\n    }\n</style>\n<table border=\"1\" class=\"dataframe\">\n  <thead>\n    <tr style=\"text-align: right;\">\n      <th></th>\n      <th>Keywords</th>\n      <th>Dislike</th>\n      <th>Like</th>\n      <th>Like1</th>\n      <th>Content</th>\n      <th>propertycard__styledlinkm1ur0x3_URL</th>\n      <th>propertycard__styledlinkm1ur0x3</th>\n      <th>propertycard__styledlinkm1ur0x32</th>\n      <th>Dislike3</th>\n    </tr>\n  </thead>\n  <tbody>\n    <tr>\n      <th>0</th>\n      <td>NEW</td>\n      <td>$399,000</td>\n      <td>3bd</td>\n      <td>2ba</td>\n      <td>1,633 sqft</td>\n      <td>https://www.trulia.com/p/ma/stoughton/36-talbo...</td>\n      <td>36 Talbot St</td>\n      <td>Stoughton, MA</td>\n      <td>SHAUNA FANNING, LAMACCHIA REALTY, INC.</td>\n    </tr>\n    <tr>\n      <th>1</th>\n      <td>NEW\\nOPEN SUN, 9-10AM</td>\n      <td>$529,900</td>\n      <td>4bd</td>\n      <td>3ba</td>\n      <td>1,682 sqft</td>\n      <td>https://www.trulia.com/p/ma/weymouth/18-weybos...</td>\n      <td>18 Weybosset St</td>\n      <td>North Weymouth, Weymouth, MA</td>\n      <td>ANGELA BERGIN, WILLIAM RAVEIS R.E. &amp; HOME SERV...</td>\n    </tr>\n    <tr>\n      <th>2</th>\n      <td>NEW</td>\n      <td>$324,900</td>\n      <td>2bd</td>\n      <td>2ba</td>\n      <td>1,020 sqft</td>\n      <td>https://www.trulia.com/p/ma/rockland/91-boxber...</td>\n      <td>91 Boxberry Ln #91</td>\n      <td>Rockland, MA</td>\n      <td>ALYSA O'HARA, BRADFORD REALTY</td>\n    </tr>\n    <tr>\n      <th>3</th>\n      <td>NaN</td>\n      <td>$499,900</td>\n      <td>3bd</td>\n      <td>2ba</td>\n      <td>1,528 sqft</td>\n      <td>https://www.trulia.com/p/ma/hanover/36-beechtr...</td>\n      <td>36 Beechtree Rd</td>\n      <td>Hanover, MA</td>\n      <td>DONALD HARDY, KELLER WILLIAMS REALTY</td>\n    </tr>\n    <tr>\n      <th>4</th>\n      <td>NEW</td>\n      <td>$475,000</td>\n      <td>4bd</td>\n      <td>2ba</td>\n      <td>1,856 sqft</td>\n      <td>https://www.trulia.com/p/ma/randolph/114-north...</td>\n      <td>114 North St</td>\n      <td>Randolph, MA</td>\n      <td>LISA JEDREY, KINLIN GROVER DARTMOUTH AT PADANA...</td>\n    </tr>\n    <tr>\n      <th>5</th>\n      <td>NEW</td>\n      <td>$399,995</td>\n      <td>3bd</td>\n      <td>3ba</td>\n      <td>1,576 sqft</td>\n      <td>https://www.trulia.com/p/ma/weymouth/61-broad-...</td>\n      <td>61 Broad Reach #M11B</td>\n      <td>North Weymouth, Weymouth, MA</td>\n      <td>DEPEND ON DAKOTA TEAM, KELLER WILLIAMS REALTY</td>\n    </tr>\n    <tr>\n      <th>6</th>\n      <td>NaN</td>\n      <td>$549,000</td>\n      <td>4bd</td>\n      <td>2ba</td>\n      <td>1,550 sqft</td>\n      <td>https://www.trulia.com/p/ma/braintree/4-lake-s...</td>\n      <td>4 Lake St</td>\n      <td>Braintree, MA</td>\n      <td>BUY BOSTON TEAM, COLDWELL BANKER REALTY - BROO...</td>\n    </tr>\n    <tr>\n      <th>7</th>\n      <td>NEW\\nOPEN WED, 12-3PM</td>\n      <td>$525,000</td>\n      <td>3bd</td>\n      <td>2ba</td>\n      <td>1,600 sqft</td>\n      <td>https://www.trulia.com/p/ma/hanover/23-karen-r...</td>\n      <td>23 Karen Rd</td>\n      <td>Hanover, MA</td>\n      <td>DAVID DELANEY, DAVID R. DELANEY, ESQ.</td>\n    </tr>\n    <tr>\n      <th>8</th>\n      <td>NEW</td>\n      <td>$549,000</td>\n      <td>2bd</td>\n      <td>3ba</td>\n      <td>1,102 sqft</td>\n      <td>https://www.trulia.com/p/ma/dorchester-center/...</td>\n      <td>29 Saint Gregory St #29</td>\n      <td>South Dorchester, Dorchester Center, MA</td>\n      <td>NICHOLS REALTY TEAM, BOSTON TRUST REALTY GROUP</td>\n    </tr>\n    <tr>\n      <th>9</th>\n      <td>NEW</td>\n      <td>$425,000</td>\n      <td>3bd</td>\n      <td>3ba</td>\n      <td>1,892 sqft</td>\n      <td>https://www.trulia.com/p/ma/brockton/38-hillcr...</td>\n      <td>38 Hillcrest Ave</td>\n      <td>Brockton, MA</td>\n      <td>VALERIE LYONS, RE/MAX PLATINUM</td>\n    </tr>\n  </tbody>\n</table>\n</div>"
     },
     "execution_count": 3,
     "metadata": {},
     "output_type": "execute_result"
    }
   ],
   "source": [
    "prop_df2.head(10)\n"
   ],
   "metadata": {
    "collapsed": false,
    "pycharm": {
     "name": "#%%\n"
    }
   }
  },
  {
   "cell_type": "markdown",
   "source": [
    "## Merge all CSV into a single sheet"
   ],
   "metadata": {
    "collapsed": false,
    "pycharm": {
     "name": "#%% md\n"
    }
   }
  },
  {
   "cell_type": "code",
   "execution_count": 4,
   "outputs": [
    {
     "data": {
      "text/plain": "     Keywords    Dislike Like Like1     Content  \\\n0         NEW  $375,000   4bd   2ba  1,544 sqft   \n1         NEW  $450,000   3bd   2ba  1,812 sqft   \n2         NEW  $449,900   4bd   2ba  1,725 sqft   \n3         NEW  $379,000   5bd   2ba  1,778 sqft   \n4  BANK OWNED  $525,400   4bd   3ba  2,964 sqft   \n5         NEW  $459,900   3bd   2ba  1,545 sqft   \n6         NaN  $499,900   3bd   2ba  1,528 sqft   \n7         NEW  $524,000   3bd   2ba  2,015 sqft   \n8         NEW  $375,000   3bd   2ba  1,336 sqft   \n9         NEW  $550,000   2bd   4ba  2,224 sqft   \n\n                 propertycard__styledlinkm1ur0x3_URL  \\\n0  https://www.trulia.com/p/ma/plymouth/26-willow...   \n1  https://www.trulia.com/p/ma/plymouth/119-alewi...   \n2  https://www.trulia.com/p/ma/bridgewater/351-so...   \n3  https://www.trulia.com/p/ma/west-wareham/8-wea...   \n4  https://www.trulia.com/p/ma/marshfield/364-fur...   \n5  https://www.trulia.com/p/ma/east-bridgewater/5...   \n6  https://www.trulia.com/p/ma/hanover/36-beechtr...   \n7  https://www.trulia.com/p/ma/pembroke/69-clarem...   \n8  https://www.trulia.com/p/ma/bridgewater/475-oa...   \n9  https://www.trulia.com/p/ma/pembroke/672-cente...   \n\n  propertycard__styledlinkm1ur0x3 propertycard__styledlinkm1ur0x32  \\\n0                    26 Willow St     Buttermilk Bay, Plymouth, MA   \n1                  119 Alewife Rd         Cedarville, Plymouth, MA   \n2                    351 South St                  Bridgewater, MA   \n3                     8 Weaver St   West Wareham, West Wareham, MA   \n4                  364 Furnace St                   Marshfield, MA   \n5                   552 Bridge St             East Bridgewater, MA   \n6                 36 Beechtree Rd                      Hanover, MA   \n7                 69 Claremont Rd                     Pembroke, MA   \n8                      475 Oak St                  Bridgewater, MA   \n9                   672 Center St                     Pembroke, MA   \n\n                                            Dislike3  \n0         JAMES F. SAVAGE, BELSITO & ASSOCIATES INC.  \n1                  ELIZABETH ISENOR, RE/MAX SPECTRUM  \n2                  TEAM PACE, KELLER WILLIAMS REALTY  \n3  PHIL AND DEBBIE ROSE, LAER REALTY PARTNERS / R...  \n4                      JASON SMITH, JDS REALTY GROUP  \n5                 SUSAN SOUZA, CONWAY - MATTAPOISETT  \n6               DONALD HARDY, KELLER WILLIAMS REALTY  \n7           KIMBERLEY TUFTS, JILL & CO. REALTY GROUP  \n8      KAREN MURRAY, REIS REAL ESTATE & COMPANY INC.  \n9                        CINDI FORD, RE/MAX PLATINUM  ",
      "text/html": "<div>\n<style scoped>\n    .dataframe tbody tr th:only-of-type {\n        vertical-align: middle;\n    }\n\n    .dataframe tbody tr th {\n        vertical-align: top;\n    }\n\n    .dataframe thead th {\n        text-align: right;\n    }\n</style>\n<table border=\"1\" class=\"dataframe\">\n  <thead>\n    <tr style=\"text-align: right;\">\n      <th></th>\n      <th>Keywords</th>\n      <th>Dislike</th>\n      <th>Like</th>\n      <th>Like1</th>\n      <th>Content</th>\n      <th>propertycard__styledlinkm1ur0x3_URL</th>\n      <th>propertycard__styledlinkm1ur0x3</th>\n      <th>propertycard__styledlinkm1ur0x32</th>\n      <th>Dislike3</th>\n    </tr>\n  </thead>\n  <tbody>\n    <tr>\n      <th>0</th>\n      <td>NEW</td>\n      <td>$375,000</td>\n      <td>4bd</td>\n      <td>2ba</td>\n      <td>1,544 sqft</td>\n      <td>https://www.trulia.com/p/ma/plymouth/26-willow...</td>\n      <td>26 Willow St</td>\n      <td>Buttermilk Bay, Plymouth, MA</td>\n      <td>JAMES F. SAVAGE, BELSITO &amp; ASSOCIATES INC.</td>\n    </tr>\n    <tr>\n      <th>1</th>\n      <td>NEW</td>\n      <td>$450,000</td>\n      <td>3bd</td>\n      <td>2ba</td>\n      <td>1,812 sqft</td>\n      <td>https://www.trulia.com/p/ma/plymouth/119-alewi...</td>\n      <td>119 Alewife Rd</td>\n      <td>Cedarville, Plymouth, MA</td>\n      <td>ELIZABETH ISENOR, RE/MAX SPECTRUM</td>\n    </tr>\n    <tr>\n      <th>2</th>\n      <td>NEW</td>\n      <td>$449,900</td>\n      <td>4bd</td>\n      <td>2ba</td>\n      <td>1,725 sqft</td>\n      <td>https://www.trulia.com/p/ma/bridgewater/351-so...</td>\n      <td>351 South St</td>\n      <td>Bridgewater, MA</td>\n      <td>TEAM PACE, KELLER WILLIAMS REALTY</td>\n    </tr>\n    <tr>\n      <th>3</th>\n      <td>NEW</td>\n      <td>$379,000</td>\n      <td>5bd</td>\n      <td>2ba</td>\n      <td>1,778 sqft</td>\n      <td>https://www.trulia.com/p/ma/west-wareham/8-wea...</td>\n      <td>8 Weaver St</td>\n      <td>West Wareham, West Wareham, MA</td>\n      <td>PHIL AND DEBBIE ROSE, LAER REALTY PARTNERS / R...</td>\n    </tr>\n    <tr>\n      <th>4</th>\n      <td>BANK OWNED</td>\n      <td>$525,400</td>\n      <td>4bd</td>\n      <td>3ba</td>\n      <td>2,964 sqft</td>\n      <td>https://www.trulia.com/p/ma/marshfield/364-fur...</td>\n      <td>364 Furnace St</td>\n      <td>Marshfield, MA</td>\n      <td>JASON SMITH, JDS REALTY GROUP</td>\n    </tr>\n    <tr>\n      <th>5</th>\n      <td>NEW</td>\n      <td>$459,900</td>\n      <td>3bd</td>\n      <td>2ba</td>\n      <td>1,545 sqft</td>\n      <td>https://www.trulia.com/p/ma/east-bridgewater/5...</td>\n      <td>552 Bridge St</td>\n      <td>East Bridgewater, MA</td>\n      <td>SUSAN SOUZA, CONWAY - MATTAPOISETT</td>\n    </tr>\n    <tr>\n      <th>6</th>\n      <td>NaN</td>\n      <td>$499,900</td>\n      <td>3bd</td>\n      <td>2ba</td>\n      <td>1,528 sqft</td>\n      <td>https://www.trulia.com/p/ma/hanover/36-beechtr...</td>\n      <td>36 Beechtree Rd</td>\n      <td>Hanover, MA</td>\n      <td>DONALD HARDY, KELLER WILLIAMS REALTY</td>\n    </tr>\n    <tr>\n      <th>7</th>\n      <td>NEW</td>\n      <td>$524,000</td>\n      <td>3bd</td>\n      <td>2ba</td>\n      <td>2,015 sqft</td>\n      <td>https://www.trulia.com/p/ma/pembroke/69-clarem...</td>\n      <td>69 Claremont Rd</td>\n      <td>Pembroke, MA</td>\n      <td>KIMBERLEY TUFTS, JILL &amp; CO. REALTY GROUP</td>\n    </tr>\n    <tr>\n      <th>8</th>\n      <td>NEW</td>\n      <td>$375,000</td>\n      <td>3bd</td>\n      <td>2ba</td>\n      <td>1,336 sqft</td>\n      <td>https://www.trulia.com/p/ma/bridgewater/475-oa...</td>\n      <td>475 Oak St</td>\n      <td>Bridgewater, MA</td>\n      <td>KAREN MURRAY, REIS REAL ESTATE &amp; COMPANY INC.</td>\n    </tr>\n    <tr>\n      <th>9</th>\n      <td>NEW</td>\n      <td>$550,000</td>\n      <td>2bd</td>\n      <td>4ba</td>\n      <td>2,224 sqft</td>\n      <td>https://www.trulia.com/p/ma/pembroke/672-cente...</td>\n      <td>672 Center St</td>\n      <td>Pembroke, MA</td>\n      <td>CINDI FORD, RE/MAX PLATINUM</td>\n    </tr>\n  </tbody>\n</table>\n</div>"
     },
     "execution_count": 4,
     "metadata": {},
     "output_type": "execute_result"
    }
   ],
   "source": [
    "prop_df = prop_df1.append(prop_df2)\n",
    "prop_df.head(10)"
   ],
   "metadata": {
    "collapsed": false,
    "pycharm": {
     "name": "#%%\n"
    }
   }
  },
  {
   "cell_type": "markdown",
   "source": [
    "### Clean column names\n",
    "Column names contain illegal characters. Let us rename them"
   ],
   "metadata": {
    "collapsed": false,
    "pycharm": {
     "name": "#%% md\n"
    }
   }
  },
  {
   "cell_type": "code",
   "execution_count": 5,
   "outputs": [
    {
     "data": {
      "text/plain": "Index(['Keywords', 'Dislike', 'Like', 'Like1', 'Content',\n       'propertycard__styledlinkm1ur0x3_URL',\n       'propertycard__styledlinkm1ur0x3', 'propertycard__styledlinkm1ur0x32',\n       'Dislike3'],\n      dtype='object')"
     },
     "execution_count": 5,
     "metadata": {},
     "output_type": "execute_result"
    }
   ],
   "source": [
    "prop_df.columns"
   ],
   "metadata": {
    "collapsed": false,
    "pycharm": {
     "name": "#%%\n"
    }
   }
  },
  {
   "cell_type": "code",
   "execution_count": null,
   "outputs": [],
   "source": [
    "prop_df.rename(index=str, columns= {\n",
    "    'Keywords': 'Listing_type',\n",
    "    'Dislike': 'Price',\n",
    "    'Like': 'Bedrooms',\n",
    "    'Like1': 'Bathrooms',\n",
    "    'Content': 'Sq_Ft',\n",
    "    'propertycard__styledlinkm1ur0x3_URL': 'URL',\n",
    "    'propertycard__styledlinkm1ur0x3': 'Address',\n",
    "    'propertycard__styledlinkm1ur0x32': 'Town, St',\n",
    "    'Dislike3': 'Listing_Agent'\n",
    "})\n"
   ],
   "metadata": {
    "collapsed": false,
    "pycharm": {
     "name": "#%%\n"
    }
   }
  }
 ],
 "metadata": {
  "kernelspec": {
   "name": "pycharm-b85ee700",
   "language": "python",
   "display_name": "PyCharm (HousingMarket_Analysis)"
  },
  "language_info": {
   "codemirror_mode": {
    "name": "ipython",
    "version": 2
   },
   "file_extension": ".py",
   "mimetype": "text/x-python",
   "name": "python",
   "nbconvert_exporter": "python",
   "pygments_lexer": "ipython2",
   "version": "2.7.6"
  }
 },
 "nbformat": 4,
 "nbformat_minor": 0
}